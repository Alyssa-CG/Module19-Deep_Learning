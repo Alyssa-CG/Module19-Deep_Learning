{
 "cells": [
  {
   "cell_type": "code",
   "execution_count": 1,
   "metadata": {},
   "outputs": [],
   "source": [
    "# Import our dependencies\n",
    "import pandas as pd\n",
    "import matplotlib as plt\n",
    "from sklearn.datasets import make_blobs\n",
    "import sklearn as skl\n",
    "import tensorflow as tf"
   ]
  },
  {
   "cell_type": "code",
   "execution_count": 2,
   "metadata": {},
   "outputs": [
    {
     "data": {
      "text/plain": [
       "<matplotlib.axes._subplots.AxesSubplot at 0x7fbfacbdc950>"
      ]
     },
     "execution_count": 2,
     "metadata": {},
     "output_type": "execute_result"
    },
    {
     "data": {
      "image/png": "[encoded data removed]",
      "text/plain": [
       "<Figure size 432x288 with 2 Axes>"
      ]
     },
     "metadata": {
      "needs_background": "light"
     },
     "output_type": "display_data"
    }
   ],
   "source": [
    "# Generate dummy dataset\n",
    "X, y = make_blobs(n_samples=1000, centers=2, n_features=2, random_state=78)\n",
    "\n",
    "# Creating a DataFrame with the dummy data\n",
    "df = pd.DataFrame(X, columns=[\"Feature 1\", \"Feature 2\"])\n",
    "df[\"Target\"] = y\n",
    "\n",
    "# Plotting the dummy data\n",
    "df.plot.scatter(x=\"Feature 1\", y=\"Feature 2\", c=\"Target\", colormap=\"winter\")"
   ]
  },
  {
   "cell_type": "code",
   "execution_count": 3,
   "metadata": {},
   "outputs": [],
   "source": [
    "# Use sklearn to split dataset\n",
    "from sklearn.model_selection import train_test_split\n",
    "X_train, X_test, y_train, y_test = train_test_split(X, y, random_state=78)"
   ]
  },
  {
   "cell_type": "code",
   "execution_count": 4,
   "metadata": {},
   "outputs": [],
   "source": [
    "# Create scaler instance\n",
    "X_scaler = skl.preprocessing.StandardScaler()\n",
    "\n",
    "# Fit the scaler\n",
    "X_scaler.fit(X_train)\n",
    "\n",
    "# Scale the data\n",
    "X_train_scaled = X_scaler.transform(X_train)\n",
    "X_test_scaled = X_scaler.transform(X_test)"
   ]
  },
  {
   "cell_type": "code",
   "execution_count": 5,
   "metadata": {},
   "outputs": [],
   "source": [
    "# Create the Keras Sequential model\n",
    "nn_model = tf.keras.models.Sequential()\n",
    "\n",
    "# The nn_model object will store the entire architecture of \n",
    "# our neural network model."
   ]
  },
  {
   "cell_type": "code",
   "execution_count": 6,
   "metadata": {},
   "outputs": [],
   "source": [
    "# Add our first Dense layer, including the input layer\n",
    "nn_model.add(tf.keras.layers.Dense(units=1, activation=\"relu\", input_dim=2))\n"
   ]
  },
  {
   "cell_type": "code",
   "execution_count": 7,
   "metadata": {},
   "outputs": [],
   "source": [
    "# Once again, we’ll use the Dense class to tell our Sequential model \n",
    "# what to do with the data.\n",
    "\n",
    "# Add the output layer that uses a probability activation function\n",
    "nn_model.add(tf.keras.layers.Dense(units=1, activation=\"sigmoid\"))"
   ]
  },
  {
   "cell_type": "code",
   "execution_count": 8,
   "metadata": {},
   "outputs": [
    {
     "name": "stdout",
     "output_type": "stream",
     "text": [
      "Model: \"sequential\"\n",
      "_________________________________________________________________\n",
      "Layer (type)                 Output Shape              Param #   \n",
      "=================================================================\n",
      "dense (Dense)                (None, 1)                 3         \n",
      "_________________________________________________________________\n",
      "dense_1 (Dense)              (None, 1)                 2         \n",
      "=================================================================\n",
      "Total params: 5\n",
      "Trainable params: 5\n",
      "Non-trainable params: 0\n",
      "_________________________________________________________________\n"
     ]
    }
   ],
   "source": [
    "# Check the structure of the Sequential model\n",
    "nn_model.summary()"
   ]
  },
  {
   "cell_type": "code",
   "execution_count": 9,
   "metadata": {},
   "outputs": [],
   "source": [
    "# Compile the Sequential model together and customize metrics\n",
    "nn_model.compile(loss=\"binary_crossentropy\", optimizer=\"adam\", metrics=[\"accuracy\"])\n"
   ]
  },
  {
   "cell_type": "code",
   "execution_count": 10,
   "metadata": {},
   "outputs": [
    {
     "name": "stdout",
     "output_type": "stream",
     "text": [
      "Train on 750 samples\n",
      "Epoch 1/100\n",
      "750/750 [==============================] - 1s 2ms/sample - loss: 0.6420 - accuracy: 0.8147\n",
      "Epoch 2/100\n",
      "750/750 [==============================] - 0s 79us/sample - loss: 0.6319 - accuracy: 0.9000\n",
      "Epoch 3/100\n",
      "750/750 [==============================] - 0s 78us/sample - loss: 0.6203 - accuracy: 0.9373\n",
      "Epoch 4/100\n",
      "750/750 [==============================] - 0s 80us/sample - loss: 0.6082 - accuracy: 0.9493\n",
      "Epoch 5/100\n",
      "750/750 [==============================] - 0s 82us/sample - loss: 0.5951 - accuracy: 0.9667\n",
      "Epoch 6/100\n",
      "750/750 [==============================] - 0s 78us/sample - loss: 0.5813 - accuracy: 0.9800\n",
      "Epoch 7/100\n",
      "750/750 [==============================] - 0s 96us/sample - loss: 0.5670 - accuracy: 0.9920\n",
      "Epoch 8/100\n",
      "750/750 [==============================] - 0s 84us/sample - loss: 0.5525 - accuracy: 0.9960\n",
      "Epoch 9/100\n",
      "750/750 [==============================] - 0s 86us/sample - loss: 0.5376 - accuracy: 0.9973\n",
      "Epoch 10/100\n",
      "750/750 [==============================] - 0s 79us/sample - loss: 0.5229 - accuracy: 0.9973\n",
      "Epoch 11/100\n",
      "750/750 [==============================] - 0s 78us/sample - loss: 0.5080 - accuracy: 0.9987\n",
      "Epoch 12/100\n",
      "750/750 [==============================] - 0s 77us/sample - loss: 0.4931 - accuracy: 1.0000\n",
      "Epoch 13/100\n",
      "750/750 [==============================] - 0s 78us/sample - loss: 0.4783 - accuracy: 1.0000\n",
      "Epoch 14/100\n",
      "750/750 [==============================] - 0s 78us/sample - loss: 0.4636 - accuracy: 1.0000\n",
      "Epoch 15/100\n",
      "750/750 [==============================] - 0s 87us/sample - loss: 0.4492 - accuracy: 1.0000\n",
      "Epoch 16/100\n",
      "750/750 [==============================] - 0s 78us/sample - loss: 0.4351 - accuracy: 1.0000\n",
      "Epoch 17/100\n",
      "750/750 [==============================] - 0s 79us/sample - loss: 0.4213 - accuracy: 1.0000\n",
      "Epoch 18/100\n",
      "750/750 [==============================] - 0s 80us/sample - loss: 0.4079 - accuracy: 1.0000\n",
      "Epoch 19/100\n",
      "750/750 [==============================] - 0s 83us/sample - loss: 0.3948 - accuracy: 1.0000\n",
      "Epoch 20/100\n",
      "750/750 [==============================] - 0s 80us/sample - loss: 0.3823 - accuracy: 1.0000\n",
      "Epoch 21/100\n",
      "750/750 [==============================] - 0s 75us/sample - loss: 0.3701 - accuracy: 1.0000\n",
      "Epoch 22/100\n",
      "750/750 [==============================] - 0s 78us/sample - loss: 0.3584 - accuracy: 1.0000\n",
      "Epoch 23/100\n",
      "750/750 [==============================] - 0s 78us/sample - loss: 0.3472 - accuracy: 1.0000\n",
      "Epoch 24/100\n",
      "750/750 [==============================] - 0s 83us/sample - loss: 0.3364 - accuracy: 1.0000\n",
      "Epoch 25/100\n",
      "750/750 [==============================] - 0s 80us/sample - loss: 0.3260 - accuracy: 1.0000\n",
      "Epoch 26/100\n",
      "750/750 [==============================] - 0s 80us/sample - loss: 0.3161 - accuracy: 1.0000\n",
      "Epoch 27/100\n",
      "750/750 [==============================] - 0s 76us/sample - loss: 0.3066 - accuracy: 1.0000\n",
      "Epoch 28/100\n",
      "750/750 [==============================] - 0s 83us/sample - loss: 0.2976 - accuracy: 1.0000\n",
      "Epoch 29/100\n",
      "750/750 [==============================] - 0s 76us/sample - loss: 0.2889 - accuracy: 1.0000\n",
      "Epoch 30/100\n",
      "750/750 [==============================] - 0s 78us/sample - loss: 0.2806 - accuracy: 1.0000\n",
      "Epoch 31/100\n",
      "750/750 [==============================] - 0s 74us/sample - loss: 0.2726 - accuracy: 1.0000\n",
      "Epoch 32/100\n",
      "750/750 [==============================] - 0s 77us/sample - loss: 0.2650 - accuracy: 1.0000\n",
      "Epoch 33/100\n",
      "750/750 [==============================] - 0s 72us/sample - loss: 0.2577 - accuracy: 1.0000\n",
      "Epoch 34/100\n",
      "750/750 [==============================] - 0s 80us/sample - loss: 0.2507 - accuracy: 1.0000\n",
      "Epoch 35/100\n",
      "750/750 [==============================] - 0s 79us/sample - loss: 0.2441 - accuracy: 1.0000\n",
      "Epoch 36/100\n",
      "750/750 [==============================] - 0s 85us/sample - loss: 0.2376 - accuracy: 1.0000\n",
      "Epoch 37/100\n",
      "750/750 [==============================] - 0s 89us/sample - loss: 0.2315 - accuracy: 1.0000\n",
      "Epoch 38/100\n",
      "750/750 [==============================] - 0s 94us/sample - loss: 0.2256 - accuracy: 1.0000\n",
      "Epoch 39/100\n",
      "750/750 [==============================] - 0s 87us/sample - loss: 0.2199 - accuracy: 1.0000\n",
      "Epoch 40/100\n",
      "750/750 [==============================] - 0s 89us/sample - loss: 0.2145 - accuracy: 1.0000\n",
      "Epoch 41/100\n",
      "750/750 [==============================] - 0s 86us/sample - loss: 0.2092 - accuracy: 1.0000\n",
      "Epoch 42/100\n",
      "750/750 [==============================] - 0s 90us/sample - loss: 0.2042 - accuracy: 1.0000\n",
      "Epoch 43/100\n",
      "750/750 [==============================] - 0s 90us/sample - loss: 0.1993 - accuracy: 1.0000\n",
      "Epoch 44/100\n",
      "750/750 [==============================] - 0s 86us/sample - loss: 0.1946 - accuracy: 1.0000\n",
      "Epoch 45/100\n",
      "750/750 [==============================] - 0s 80us/sample - loss: 0.1901 - accuracy: 1.0000\n",
      "Epoch 46/100\n",
      "750/750 [==============================] - 0s 86us/sample - loss: 0.1858 - accuracy: 1.0000\n",
      "Epoch 47/100\n",
      "750/750 [==============================] - 0s 82us/sample - loss: 0.1816 - accuracy: 1.0000\n",
      "Epoch 48/100\n",
      "750/750 [==============================] - 0s 86us/sample - loss: 0.1776 - accuracy: 1.0000\n",
      "Epoch 49/100\n",
      "750/750 [==============================] - 0s 92us/sample - loss: 0.1737 - accuracy: 1.0000\n",
      "Epoch 50/100\n",
      "750/750 [==============================] - 0s 89us/sample - loss: 0.1699 - accuracy: 1.0000\n",
      "Epoch 51/100\n",
      "750/750 [==============================] - 0s 86us/sample - loss: 0.1662 - accuracy: 1.0000\n",
      "Epoch 52/100\n",
      "750/750 [==============================] - 0s 87us/sample - loss: 0.1627 - accuracy: 1.0000\n",
      "Epoch 53/100\n",
      "750/750 [==============================] - 0s 87us/sample - loss: 0.1592 - accuracy: 1.0000\n",
      "Epoch 54/100\n",
      "750/750 [==============================] - 0s 92us/sample - loss: 0.1559 - accuracy: 1.0000\n",
      "Epoch 55/100\n",
      "750/750 [==============================] - 0s 100us/sample - loss: 0.1527 - accuracy: 1.0000\n",
      "Epoch 56/100\n",
      "750/750 [==============================] - 0s 89us/sample - loss: 0.1496 - accuracy: 1.0000\n",
      "Epoch 57/100\n",
      "750/750 [==============================] - 0s 83us/sample - loss: 0.1465 - accuracy: 1.0000\n",
      "Epoch 58/100\n",
      "750/750 [==============================] - 0s 73us/sample - loss: 0.1436 - accuracy: 1.0000\n",
      "Epoch 59/100\n",
      "750/750 [==============================] - 0s 82us/sample - loss: 0.1408 - accuracy: 1.0000\n",
      "Epoch 60/100\n",
      "750/750 [==============================] - 0s 78us/sample - loss: 0.1380 - accuracy: 1.0000\n",
      "Epoch 61/100\n",
      "750/750 [==============================] - 0s 84us/sample - loss: 0.1353 - accuracy: 1.0000\n",
      "Epoch 62/100\n",
      "750/750 [==============================] - 0s 84us/sample - loss: 0.1327 - accuracy: 1.0000\n",
      "Epoch 63/100\n",
      "750/750 [==============================] - 0s 83us/sample - loss: 0.1302 - accuracy: 1.0000\n",
      "Epoch 64/100\n",
      "750/750 [==============================] - 0s 81us/sample - loss: 0.1277 - accuracy: 1.0000\n",
      "Epoch 65/100\n",
      "750/750 [==============================] - 0s 84us/sample - loss: 0.1253 - accuracy: 1.0000\n",
      "Epoch 66/100\n",
      "750/750 [==============================] - 0s 88us/sample - loss: 0.1230 - accuracy: 1.0000\n",
      "Epoch 67/100\n",
      "750/750 [==============================] - 0s 107us/sample - loss: 0.1207 - accuracy: 1.0000\n",
      "Epoch 68/100\n",
      "750/750 [==============================] - 0s 95us/sample - loss: 0.1185 - accuracy: 1.0000\n",
      "Epoch 69/100\n",
      "750/750 [==============================] - 0s 85us/sample - loss: 0.1164 - accuracy: 1.0000\n",
      "Epoch 70/100\n",
      "750/750 [==============================] - 0s 87us/sample - loss: 0.1143 - accuracy: 1.0000\n",
      "Epoch 71/100\n",
      "750/750 [==============================] - 0s 84us/sample - loss: 0.1122 - accuracy: 1.0000\n",
      "Epoch 72/100\n",
      "750/750 [==============================] - 0s 85us/sample - loss: 0.1103 - accuracy: 1.0000\n",
      "Epoch 73/100\n",
      "750/750 [==============================] - 0s 85us/sample - loss: 0.1083 - accuracy: 1.0000\n",
      "Epoch 74/100\n",
      "750/750 [==============================] - 0s 85us/sample - loss: 0.1064 - accuracy: 1.0000\n",
      "Epoch 75/100\n",
      "750/750 [==============================] - 0s 83us/sample - loss: 0.1046 - accuracy: 1.0000\n",
      "Epoch 76/100\n",
      "750/750 [==============================] - 0s 80us/sample - loss: 0.1028 - accuracy: 1.0000\n",
      "Epoch 77/100\n",
      "750/750 [==============================] - 0s 116us/sample - loss: 0.1010 - accuracy: 1.0000\n",
      "Epoch 78/100\n"
     ]
    },
    {
     "name": "stdout",
     "output_type": "stream",
     "text": [
      "750/750 [==============================] - 0s 93us/sample - loss: 0.0993 - accuracy: 1.0000\n",
      "Epoch 79/100\n",
      "750/750 [==============================] - 0s 84us/sample - loss: 0.0976 - accuracy: 1.0000\n",
      "Epoch 80/100\n",
      "750/750 [==============================] - 0s 73us/sample - loss: 0.0960 - accuracy: 1.0000\n",
      "Epoch 81/100\n",
      "750/750 [==============================] - 0s 83us/sample - loss: 0.0944 - accuracy: 1.0000\n",
      "Epoch 82/100\n",
      "750/750 [==============================] - 0s 83us/sample - loss: 0.0928 - accuracy: 1.0000\n",
      "Epoch 83/100\n",
      "750/750 [==============================] - 0s 76us/sample - loss: 0.0913 - accuracy: 1.0000\n",
      "Epoch 84/100\n",
      "750/750 [==============================] - 0s 79us/sample - loss: 0.0898 - accuracy: 1.0000\n",
      "Epoch 85/100\n",
      "750/750 [==============================] - 0s 72us/sample - loss: 0.0883 - accuracy: 1.0000\n",
      "Epoch 86/100\n",
      "750/750 [==============================] - 0s 79us/sample - loss: 0.0869 - accuracy: 1.0000\n",
      "Epoch 87/100\n",
      "750/750 [==============================] - 0s 75us/sample - loss: 0.0855 - accuracy: 1.0000\n",
      "Epoch 88/100\n",
      "750/750 [==============================] - 0s 81us/sample - loss: 0.0841 - accuracy: 1.0000\n",
      "Epoch 89/100\n",
      "750/750 [==============================] - 0s 74us/sample - loss: 0.0828 - accuracy: 1.0000\n",
      "Epoch 90/100\n",
      "750/750 [==============================] - 0s 79us/sample - loss: 0.0815 - accuracy: 1.0000\n",
      "Epoch 91/100\n",
      "750/750 [==============================] - 0s 76us/sample - loss: 0.0802 - accuracy: 1.0000\n",
      "Epoch 92/100\n",
      "750/750 [==============================] - 0s 80us/sample - loss: 0.0790 - accuracy: 1.0000\n",
      "Epoch 93/100\n",
      "750/750 [==============================] - 0s 84us/sample - loss: 0.0778 - accuracy: 1.0000\n",
      "Epoch 94/100\n",
      "750/750 [==============================] - 0s 74us/sample - loss: 0.0766 - accuracy: 1.0000\n",
      "Epoch 95/100\n",
      "750/750 [==============================] - 0s 79us/sample - loss: 0.0754 - accuracy: 1.0000\n",
      "Epoch 96/100\n",
      "750/750 [==============================] - 0s 73us/sample - loss: 0.0743 - accuracy: 1.0000\n",
      "Epoch 97/100\n",
      "750/750 [==============================] - 0s 93us/sample - loss: 0.0731 - accuracy: 1.0000\n",
      "Epoch 98/100\n",
      "750/750 [==============================] - 0s 85us/sample - loss: 0.0720 - accuracy: 1.0000\n",
      "Epoch 99/100\n",
      "750/750 [==============================] - 0s 88us/sample - loss: 0.0709 - accuracy: 1.0000\n",
      "Epoch 100/100\n",
      "750/750 [==============================] - 0s 89us/sample - loss: 0.0699 - accuracy: 1.0000\n"
     ]
    }
   ],
   "source": [
    "# Fit the model to the training data\n",
    "fit_model = nn_model.fit(X_train_scaled, y_train, epochs=100)\n",
    "\n",
    "# Looking at the model training output below, we know the loss metric \n",
    "# was 0.07 and the predictive accuracy is 1.0. This means that \n",
    "# although our model performance had more loss than the simulation \n",
    "# data, the model correctly classifies all of our training data, \n",
    "# which is sufficient for our needs."
   ]
  },
  {
   "cell_type": "code",
   "execution_count": 11,
   "metadata": {},
   "outputs": [
    {
     "data": {
      "text/plain": [
       "<matplotlib.axes._subplots.AxesSubplot at 0x7fbfae00a8d0>"
      ]
     },
     "execution_count": 11,
     "metadata": {},
     "output_type": "execute_result"
    },
    {
     "data": {
      "image/png": "[encoded data removed]",
      "text/plain": [
       "<Figure size 432x288 with 1 Axes>"
      ]
     },
     "metadata": {
      "needs_background": "light"
     },
     "output_type": "display_data"
    }
   ],
   "source": [
    "# Create a DataFrame containing training history\n",
    "history_df = pd.DataFrame(fit_model.history, index=range(1,len(fit_model.history[\"loss\"])+1))\n",
    "\n",
    "# Plot the loss\n",
    "history_df.plot(y=\"loss\")"
   ]
  },
  {
   "cell_type": "code",
   "execution_count": 12,
   "metadata": {},
   "outputs": [
    {
     "data": {
      "text/plain": [
       "<matplotlib.axes._subplots.AxesSubplot at 0x7fbfae591dd0>"
      ]
     },
     "execution_count": 12,
     "metadata": {},
     "output_type": "execute_result"
    },
    {
     "data": {
      "image/png": "[encoded data removed]",
      "text/plain": [
       "<Figure size 432x288 with 1 Axes>"
      ]
     },
     "metadata": {
      "needs_background": "light"
     },
     "output_type": "display_data"
    }
   ],
   "source": [
    "# Plot the accuracy\n",
    "history_df.plot(y=\"accuracy\")"
   ]
  },
  {
   "cell_type": "code",
   "execution_count": 13,
   "metadata": {},
   "outputs": [
    {
     "name": "stdout",
     "output_type": "stream",
     "text": [
      "250/1 - 0s - loss: 0.0627 - accuracy: 1.0000\n",
      "Loss: 0.0719050158560276, Accuracy: 1.0\n"
     ]
    }
   ],
   "source": [
    "# Evaluate the model using the test data\n",
    "model_loss, model_accuracy = nn_model.evaluate(X_test_scaled,y_test,verbose=2)\n",
    "print(f\"Loss: {model_loss}, Accuracy: {model_accuracy}\")"
   ]
  },
  {
   "cell_type": "code",
   "execution_count": 14,
   "metadata": {},
   "outputs": [
    {
     "data": {
      "text/plain": [
       "array([[0],\n",
       "       [1],\n",
       "       [0],\n",
       "       [1],\n",
       "       [0],\n",
       "       [0],\n",
       "       [1],\n",
       "       [1],\n",
       "       [1],\n",
       "       [0]], dtype=int32)"
      ]
     },
     "execution_count": 14,
     "metadata": {},
     "output_type": "execute_result"
    }
   ],
   "source": [
    "# Predict the classification of a new set of blob data\n",
    "new_X, new_Y = make_blobs(n_samples=10, centers=2, n_features=2, random_state=78)\n",
    "new_X_scaled = X_scaler.transform(new_X)\n",
    "nn_model.predict_classes(new_X_scaled)"
   ]
  },
  {
   "cell_type": "code",
   "execution_count": 15,
   "metadata": {},
   "outputs": [
    {
     "data": {
      "text/plain": [
       "<matplotlib.axes._subplots.AxesSubplot at 0x7fbfae783ed0>"
      ]
     },
     "execution_count": 15,
     "metadata": {},
     "output_type": "execute_result"
    },
    {
     "data": {
      "image/png": "[encoded data removed]",
      "text/plain": [
       "<Figure size 432x288 with 2 Axes>"
      ]
     },
     "metadata": {
      "needs_background": "light"
     },
     "output_type": "display_data"
    }
   ],
   "source": [
    "from sklearn.datasets import make_moons\n",
    "\n",
    "# Creating dummy nonlinear data\n",
    "X_moons, y_moons = make_moons(n_samples=1000, noise=0.08, random_state=78)\n",
    "\n",
    "# Transforming y_moons to a vertical vector\n",
    "y_moons = y_moons.reshape(-1, 1)\n",
    "\n",
    "# Creating a DataFrame to plot the nonlinear dummy data\n",
    "df_moons = pd.DataFrame(X_moons, columns=[\"Feature 1\", \"Feature 2\"])\n",
    "df_moons[\"Target\"] = y_moons\n",
    "\n",
    "# Plot the nonlinear dummy data\n",
    "df_moons.plot.scatter(x=\"Feature 1\",y=\"Feature 2\", c=\"Target\",colormap=\"winter\")"
   ]
  },
  {
   "cell_type": "code",
   "execution_count": 16,
   "metadata": {},
   "outputs": [],
   "source": [
    "# Create training and testing sets\n",
    "X_moon_train, X_moon_test, y_moon_train, y_moon_test = train_test_split(\n",
    "    X_moons, y_moons, random_state=78\n",
    ")\n",
    "\n",
    "# Create the scaler instance\n",
    "X_moon_scaler = skl.preprocessing.StandardScaler()\n",
    "\n",
    "# Fit the scaler\n",
    "X_moon_scaler.fit(X_moon_train)\n",
    "\n",
    "# Scale the data\n",
    "X_moon_train_scaled = X_moon_scaler.transform(X_moon_train)\n",
    "X_moon_test_scaled = X_moon_scaler.transform(X_moon_test)"
   ]
  },
  {
   "cell_type": "code",
   "execution_count": 17,
   "metadata": {},
   "outputs": [
    {
     "name": "stdout",
     "output_type": "stream",
     "text": [
      "Train on 750 samples\n",
      "Epoch 1/100\n",
      "750/750 [==============================] - 0s 139us/sample - loss: 0.8234 - accuracy: 0.5853\n",
      "Epoch 2/100\n",
      "750/750 [==============================] - 0s 85us/sample - loss: 0.7399 - accuracy: 0.6093\n",
      "Epoch 3/100\n",
      "750/750 [==============================] - 0s 87us/sample - loss: 0.6794 - accuracy: 0.6293\n",
      "Epoch 4/100\n",
      "750/750 [==============================] - 0s 85us/sample - loss: 0.6346 - accuracy: 0.6480\n",
      "Epoch 5/100\n",
      "750/750 [==============================] - 0s 88us/sample - loss: 0.6006 - accuracy: 0.6560\n",
      "Epoch 6/100\n",
      "750/750 [==============================] - 0s 89us/sample - loss: 0.5721 - accuracy: 0.6693\n",
      "Epoch 7/100\n",
      "750/750 [==============================] - 0s 88us/sample - loss: 0.5486 - accuracy: 0.6867\n",
      "Epoch 8/100\n",
      "750/750 [==============================] - 0s 93us/sample - loss: 0.5279 - accuracy: 0.6947s - loss: 0.5253 - accuracy: 0.69\n",
      "Epoch 9/100\n",
      "750/750 [==============================] - 0s 105us/sample - loss: 0.5099 - accuracy: 0.7053\n",
      "Epoch 10/100\n",
      "750/750 [==============================] - 0s 102us/sample - loss: 0.4943 - accuracy: 0.7120\n",
      "Epoch 11/100\n",
      "750/750 [==============================] - 0s 99us/sample - loss: 0.4797 - accuracy: 0.7187\n",
      "Epoch 12/100\n",
      "750/750 [==============================] - 0s 94us/sample - loss: 0.4667 - accuracy: 0.7280\n",
      "Epoch 13/100\n",
      "750/750 [==============================] - 0s 93us/sample - loss: 0.4549 - accuracy: 0.7373\n",
      "Epoch 14/100\n",
      "750/750 [==============================] - 0s 101us/sample - loss: 0.4439 - accuracy: 0.7427\n",
      "Epoch 15/100\n",
      "750/750 [==============================] - 0s 96us/sample - loss: 0.4339 - accuracy: 0.7507\n",
      "Epoch 16/100\n",
      "750/750 [==============================] - 0s 94us/sample - loss: 0.4245 - accuracy: 0.7600\n",
      "Epoch 17/100\n",
      "750/750 [==============================] - 0s 138us/sample - loss: 0.4156 - accuracy: 0.7693\n",
      "Epoch 18/100\n",
      "750/750 [==============================] - 0s 112us/sample - loss: 0.4071 - accuracy: 0.7760\n",
      "Epoch 19/100\n",
      "750/750 [==============================] - 0s 91us/sample - loss: 0.3993 - accuracy: 0.7800\n",
      "Epoch 20/100\n",
      "750/750 [==============================] - 0s 96us/sample - loss: 0.3918 - accuracy: 0.7827\n",
      "Epoch 21/100\n",
      "750/750 [==============================] - 0s 95us/sample - loss: 0.3847 - accuracy: 0.7853\n",
      "Epoch 22/100\n",
      "750/750 [==============================] - 0s 96us/sample - loss: 0.3780 - accuracy: 0.7893\n",
      "Epoch 23/100\n",
      "750/750 [==============================] - 0s 106us/sample - loss: 0.3716 - accuracy: 0.7933\n",
      "Epoch 24/100\n",
      "750/750 [==============================] - 0s 101us/sample - loss: 0.3654 - accuracy: 0.7973\n",
      "Epoch 25/100\n",
      "750/750 [==============================] - 0s 100us/sample - loss: 0.3595 - accuracy: 0.8013\n",
      "Epoch 26/100\n",
      "750/750 [==============================] - 0s 94us/sample - loss: 0.3539 - accuracy: 0.8067\n",
      "Epoch 27/100\n",
      "750/750 [==============================] - 0s 91us/sample - loss: 0.3485 - accuracy: 0.8120s - loss: 0.3525 - accuracy: 0.80\n",
      "Epoch 28/100\n",
      "750/750 [==============================] - 0s 104us/sample - loss: 0.3435 - accuracy: 0.8147\n",
      "Epoch 29/100\n",
      "750/750 [==============================] - 0s 93us/sample - loss: 0.3387 - accuracy: 0.8200\n",
      "Epoch 30/100\n",
      "750/750 [==============================] - 0s 91us/sample - loss: 0.3342 - accuracy: 0.8227\n",
      "Epoch 31/100\n",
      "750/750 [==============================] - 0s 90us/sample - loss: 0.3300 - accuracy: 0.8267\n",
      "Epoch 32/100\n",
      "750/750 [==============================] - 0s 102us/sample - loss: 0.3261 - accuracy: 0.8293\n",
      "Epoch 33/100\n",
      "750/750 [==============================] - 0s 94us/sample - loss: 0.3224 - accuracy: 0.8320\n",
      "Epoch 34/100\n",
      "750/750 [==============================] - 0s 96us/sample - loss: 0.3190 - accuracy: 0.8347\n",
      "Epoch 35/100\n",
      "750/750 [==============================] - 0s 95us/sample - loss: 0.3156 - accuracy: 0.8373\n",
      "Epoch 36/100\n",
      "750/750 [==============================] - 0s 92us/sample - loss: 0.3126 - accuracy: 0.8373\n",
      "Epoch 37/100\n",
      "750/750 [==============================] - 0s 96us/sample - loss: 0.3097 - accuracy: 0.8387s - loss: 0.3121 - accuracy: 0.83\n",
      "Epoch 38/100\n",
      "750/750 [==============================] - 0s 100us/sample - loss: 0.3070 - accuracy: 0.8413\n",
      "Epoch 39/100\n",
      "750/750 [==============================] - 0s 97us/sample - loss: 0.3043 - accuracy: 0.8413\n",
      "Epoch 40/100\n",
      "750/750 [==============================] - 0s 93us/sample - loss: 0.3020 - accuracy: 0.8427\n",
      "Epoch 41/100\n",
      "750/750 [==============================] - 0s 100us/sample - loss: 0.2997 - accuracy: 0.8467\n",
      "Epoch 42/100\n",
      "750/750 [==============================] - 0s 94us/sample - loss: 0.2976 - accuracy: 0.8507\n",
      "Epoch 43/100\n",
      "750/750 [==============================] - 0s 99us/sample - loss: 0.2958 - accuracy: 0.8560\n",
      "Epoch 44/100\n",
      "750/750 [==============================] - 0s 104us/sample - loss: 0.2937 - accuracy: 0.8587\n",
      "Epoch 45/100\n",
      "750/750 [==============================] - 0s 116us/sample - loss: 0.2920 - accuracy: 0.8613\n",
      "Epoch 46/100\n",
      "750/750 [==============================] - 0s 110us/sample - loss: 0.2903 - accuracy: 0.8627\n",
      "Epoch 47/100\n",
      "750/750 [==============================] - 0s 100us/sample - loss: 0.2887 - accuracy: 0.8667\n",
      "Epoch 48/100\n",
      "750/750 [==============================] - 0s 105us/sample - loss: 0.2871 - accuracy: 0.8667\n",
      "Epoch 49/100\n",
      "750/750 [==============================] - 0s 115us/sample - loss: 0.2857 - accuracy: 0.8667\n",
      "Epoch 50/100\n",
      "750/750 [==============================] - 0s 105us/sample - loss: 0.2843 - accuracy: 0.8667\n",
      "Epoch 51/100\n",
      "750/750 [==============================] - 0s 102us/sample - loss: 0.2829 - accuracy: 0.8680\n",
      "Epoch 52/100\n",
      "750/750 [==============================] - 0s 132us/sample - loss: 0.2817 - accuracy: 0.8693\n",
      "Epoch 53/100\n",
      "750/750 [==============================] - 0s 119us/sample - loss: 0.2805 - accuracy: 0.8733\n",
      "Epoch 54/100\n",
      "750/750 [==============================] - 0s 111us/sample - loss: 0.2794 - accuracy: 0.8747\n",
      "Epoch 55/100\n",
      "750/750 [==============================] - 0s 110us/sample - loss: 0.2782 - accuracy: 0.8760\n",
      "Epoch 56/100\n",
      "750/750 [==============================] - 0s 102us/sample - loss: 0.2773 - accuracy: 0.8773\n",
      "Epoch 57/100\n",
      "750/750 [==============================] - 0s 100us/sample - loss: 0.2763 - accuracy: 0.8773\n",
      "Epoch 58/100\n",
      "750/750 [==============================] - 0s 109us/sample - loss: 0.2753 - accuracy: 0.8787\n",
      "Epoch 59/100\n",
      "750/750 [==============================] - 0s 114us/sample - loss: 0.2744 - accuracy: 0.8787\n",
      "Epoch 60/100\n",
      "750/750 [==============================] - 0s 94us/sample - loss: 0.2736 - accuracy: 0.8800\n",
      "Epoch 61/100\n",
      "750/750 [==============================] - 0s 90us/sample - loss: 0.2728 - accuracy: 0.8800\n",
      "Epoch 62/100\n",
      "750/750 [==============================] - 0s 93us/sample - loss: 0.2720 - accuracy: 0.8800\n",
      "Epoch 63/100\n",
      "750/750 [==============================] - 0s 102us/sample - loss: 0.2713 - accuracy: 0.8827\n",
      "Epoch 64/100\n",
      "750/750 [==============================] - 0s 103us/sample - loss: 0.2706 - accuracy: 0.8840\n",
      "Epoch 65/100\n",
      "750/750 [==============================] - 0s 109us/sample - loss: 0.2698 - accuracy: 0.8840\n",
      "Epoch 66/100\n",
      "750/750 [==============================] - 0s 108us/sample - loss: 0.2692 - accuracy: 0.8840\n",
      "Epoch 67/100\n",
      "750/750 [==============================] - 0s 96us/sample - loss: 0.2686 - accuracy: 0.8840\n",
      "Epoch 68/100\n",
      "750/750 [==============================] - 0s 102us/sample - loss: 0.2679 - accuracy: 0.8840\n",
      "Epoch 69/100\n",
      "750/750 [==============================] - 0s 107us/sample - loss: 0.2674 - accuracy: 0.8853\n",
      "Epoch 70/100\n",
      "750/750 [==============================] - 0s 114us/sample - loss: 0.2669 - accuracy: 0.8853\n",
      "Epoch 71/100\n",
      "750/750 [==============================] - 0s 102us/sample - loss: 0.2663 - accuracy: 0.8853\n",
      "Epoch 72/100\n",
      "750/750 [==============================] - 0s 99us/sample - loss: 0.2657 - accuracy: 0.8840\n",
      "Epoch 73/100\n",
      "750/750 [==============================] - 0s 94us/sample - loss: 0.2652 - accuracy: 0.8853\n",
      "Epoch 74/100\n",
      "750/750 [==============================] - 0s 98us/sample - loss: 0.2648 - accuracy: 0.8853\n",
      "Epoch 75/100\n",
      "750/750 [==============================] - 0s 93us/sample - loss: 0.2643 - accuracy: 0.8853\n",
      "Epoch 76/100\n",
      "750/750 [==============================] - 0s 100us/sample - loss: 0.2638 - accuracy: 0.8853\n",
      "Epoch 77/100\n"
     ]
    },
    {
     "name": "stdout",
     "output_type": "stream",
     "text": [
      "750/750 [==============================] - 0s 105us/sample - loss: 0.2634 - accuracy: 0.8853\n",
      "Epoch 78/100\n",
      "750/750 [==============================] - 0s 101us/sample - loss: 0.2630 - accuracy: 0.8853\n",
      "Epoch 79/100\n",
      "750/750 [==============================] - 0s 96us/sample - loss: 0.2626 - accuracy: 0.8867\n",
      "Epoch 80/100\n",
      "750/750 [==============================] - 0s 100us/sample - loss: 0.2622 - accuracy: 0.8867\n",
      "Epoch 81/100\n",
      "750/750 [==============================] - 0s 97us/sample - loss: 0.2618 - accuracy: 0.8867\n",
      "Epoch 82/100\n",
      "750/750 [==============================] - 0s 89us/sample - loss: 0.2615 - accuracy: 0.8880\n",
      "Epoch 83/100\n",
      "750/750 [==============================] - 0s 88us/sample - loss: 0.2611 - accuracy: 0.8880\n",
      "Epoch 84/100\n",
      "750/750 [==============================] - 0s 85us/sample - loss: 0.2608 - accuracy: 0.8880\n",
      "Epoch 85/100\n",
      "750/750 [==============================] - 0s 90us/sample - loss: 0.2605 - accuracy: 0.8893\n",
      "Epoch 86/100\n",
      "750/750 [==============================] - 0s 88us/sample - loss: 0.2602 - accuracy: 0.8893\n",
      "Epoch 87/100\n",
      "750/750 [==============================] - 0s 89us/sample - loss: 0.2599 - accuracy: 0.8893\n",
      "Epoch 88/100\n",
      "750/750 [==============================] - 0s 89us/sample - loss: 0.2597 - accuracy: 0.8893\n",
      "Epoch 89/100\n",
      "750/750 [==============================] - 0s 87us/sample - loss: 0.2594 - accuracy: 0.8893\n",
      "Epoch 90/100\n",
      "750/750 [==============================] - 0s 88us/sample - loss: 0.2591 - accuracy: 0.8907\n",
      "Epoch 91/100\n",
      "750/750 [==============================] - 0s 86us/sample - loss: 0.2589 - accuracy: 0.8893\n",
      "Epoch 92/100\n",
      "750/750 [==============================] - 0s 88us/sample - loss: 0.2586 - accuracy: 0.8907\n",
      "Epoch 93/100\n",
      "750/750 [==============================] - 0s 88us/sample - loss: 0.2584 - accuracy: 0.8907\n",
      "Epoch 94/100\n",
      "750/750 [==============================] - 0s 90us/sample - loss: 0.2582 - accuracy: 0.8907\n",
      "Epoch 95/100\n",
      "750/750 [==============================] - 0s 96us/sample - loss: 0.2579 - accuracy: 0.8893\n",
      "Epoch 96/100\n",
      "750/750 [==============================] - 0s 86us/sample - loss: 0.2577 - accuracy: 0.8893\n",
      "Epoch 97/100\n",
      "750/750 [==============================] - 0s 95us/sample - loss: 0.2576 - accuracy: 0.8907\n",
      "Epoch 98/100\n",
      "750/750 [==============================] - 0s 89us/sample - loss: 0.2573 - accuracy: 0.8907\n",
      "Epoch 99/100\n",
      "750/750 [==============================] - 0s 99us/sample - loss: 0.2571 - accuracy: 0.8920\n",
      "Epoch 100/100\n",
      "750/750 [==============================] - 0s 87us/sample - loss: 0.2569 - accuracy: 0.8907\n"
     ]
    }
   ],
   "source": [
    "# Training the model with the nonlinear data\n",
    "model_moon = nn_model.fit(X_moon_train_scaled, y_moon_train, epochs=100, shuffle=True)"
   ]
  },
  {
   "cell_type": "code",
   "execution_count": 18,
   "metadata": {},
   "outputs": [
    {
     "data": {
      "text/plain": [
       "<matplotlib.axes._subplots.AxesSubplot at 0x7fbfaed993d0>"
      ]
     },
     "execution_count": 18,
     "metadata": {},
     "output_type": "execute_result"
    },
    {
     "data": {
      "image/png": "[encoded data removed]",
      "text/plain": [
       "<Figure size 432x288 with 1 Axes>"
      ]
     },
     "metadata": {
      "needs_background": "light"
     },
     "output_type": "display_data"
    }
   ],
   "source": [
    "# Create a DataFrame containing training history\n",
    "history_df = pd.DataFrame(model_moon.history, index=range(1,len(model_moon.history[\"loss\"])+1))\n",
    "\n",
    "# Plot the loss\n",
    "history_df.plot(y=\"loss\")"
   ]
  },
  {
   "cell_type": "code",
   "execution_count": 19,
   "metadata": {},
   "outputs": [
    {
     "data": {
      "text/plain": [
       "<matplotlib.axes._subplots.AxesSubplot at 0x7fbf90448a50>"
      ]
     },
     "execution_count": 19,
     "metadata": {},
     "output_type": "execute_result"
    },
    {
     "data": {
      "image/png": "[encoded data removed]",
      "text/plain": [
       "<Figure size 432x288 with 1 Axes>"
      ]
     },
     "metadata": {
      "needs_background": "light"
     },
     "output_type": "display_data"
    }
   ],
   "source": [
    "# Plot the loss\n",
    "history_df.plot(y=\"accuracy\")"
   ]
  },
  {
   "cell_type": "code",
   "execution_count": 20,
   "metadata": {},
   "outputs": [],
   "source": [
    "# Since we want to change the structure of our neural network model, \n",
    "# we must first create a new Sequential model by adding and running:\n",
    "\n",
    "# Generate our new Sequential model\n",
    "new_model = tf.keras.models.Sequential()"
   ]
  },
  {
   "cell_type": "code",
   "execution_count": 21,
   "metadata": {},
   "outputs": [],
   "source": [
    "# Add the input and hidden layer\n",
    "number_inputs = 2\n",
    "number_hidden_nodes = 6\n",
    "\n",
    "new_model.add(tf.keras.layers.Dense(units=number_hidden_nodes, activation=\"relu\", input_dim=number_inputs))\n",
    "\n",
    "# Add the output layer that uses a probability activation function\n",
    "new_model.add(tf.keras.layers.Dense(units=1, activation=\"sigmoid\"))"
   ]
  },
  {
   "cell_type": "code",
   "execution_count": null,
   "metadata": {},
   "outputs": [
    {
     "name": "stdout",
     "output_type": "stream",
     "text": [
      "Train on 750 samples\n",
      "Epoch 1/100\n",
      "750/750 [==============================] - 1s 1ms/sample - loss: 0.5302 - accuracy: 0.8520\n",
      "Epoch 2/100\n",
      "750/750 [==============================] - 0s 108us/sample - loss: 0.5066 - accuracy: 0.8653\n",
      "Epoch 3/100\n",
      "750/750 [==============================] - 0s 100us/sample - loss: 0.4838 - accuracy: 0.8787\n",
      "Epoch 4/100\n",
      "750/750 [==============================] - 0s 98us/sample - loss: 0.4617 - accuracy: 0.8933\n",
      "Epoch 5/100\n",
      "750/750 [==============================] - 0s 96us/sample - loss: 0.4402 - accuracy: 0.8960\n",
      "Epoch 6/100\n",
      "750/750 [==============================] - 0s 129us/sample - loss: 0.4191 - accuracy: 0.8947\n",
      "Epoch 7/100\n",
      "750/750 [==============================] - 0s 126us/sample - loss: 0.3995 - accuracy: 0.8947\n",
      "Epoch 8/100\n",
      "750/750 [==============================] - 0s 115us/sample - loss: 0.3813 - accuracy: 0.8987\n",
      "Epoch 9/100\n",
      "750/750 [==============================] - 0s 110us/sample - loss: 0.3646 - accuracy: 0.9000\n",
      "Epoch 10/100\n",
      "750/750 [==============================] - 0s 112us/sample - loss: 0.3491 - accuracy: 0.9013\n",
      "Epoch 11/100\n",
      "750/750 [==============================] - 0s 122us/sample - loss: 0.3357 - accuracy: 0.8987\n",
      "Epoch 12/100\n",
      "750/750 [==============================] - 0s 110us/sample - loss: 0.3235 - accuracy: 0.8973\n",
      "Epoch 13/100\n",
      "750/750 [==============================] - 0s 134us/sample - loss: 0.3128 - accuracy: 0.8987\n",
      "Epoch 14/100\n",
      "750/750 [==============================] - 0s 120us/sample - loss: 0.3035 - accuracy: 0.8987\n",
      "Epoch 15/100\n",
      "750/750 [==============================] - 0s 104us/sample - loss: 0.2956 - accuracy: 0.8987\n",
      "Epoch 16/100\n",
      "750/750 [==============================] - 0s 104us/sample - loss: 0.2883 - accuracy: 0.8987\n",
      "Epoch 17/100\n",
      "750/750 [==============================] - 0s 111us/sample - loss: 0.2823 - accuracy: 0.8987\n",
      "Epoch 18/100\n",
      "750/750 [==============================] - 0s 112us/sample - loss: 0.2766 - accuracy: 0.8987\n",
      "Epoch 19/100\n",
      "750/750 [==============================] - 0s 114us/sample - loss: 0.2716 - accuracy: 0.9000\n",
      "Epoch 20/100\n",
      "750/750 [==============================] - 0s 125us/sample - loss: 0.2670 - accuracy: 0.9000\n",
      "Epoch 21/100\n",
      "750/750 [==============================] - 0s 111us/sample - loss: 0.2630 - accuracy: 0.9000\n",
      "Epoch 22/100\n",
      "750/750 [==============================] - 0s 110us/sample - loss: 0.2594 - accuracy: 0.9000\n",
      "Epoch 23/100\n",
      "750/750 [==============================] - 0s 119us/sample - loss: 0.2561 - accuracy: 0.9000\n",
      "Epoch 24/100\n",
      "750/750 [==============================] - 0s 113us/sample - loss: 0.2531 - accuracy: 0.9000\n",
      "Epoch 25/100\n",
      "750/750 [==============================] - 0s 106us/sample - loss: 0.2504 - accuracy: 0.9013\n",
      "Epoch 26/100\n",
      "750/750 [==============================] - 0s 121us/sample - loss: 0.2479 - accuracy: 0.9000\n",
      "Epoch 27/100\n",
      "750/750 [==============================] - 0s 110us/sample - loss: 0.2455 - accuracy: 0.9013\n",
      "Epoch 28/100\n",
      "750/750 [==============================] - 0s 112us/sample - loss: 0.2433 - accuracy: 0.9013\n",
      "Epoch 29/100\n",
      "750/750 [==============================] - 0s 123us/sample - loss: 0.2413 - accuracy: 0.9013\n",
      "Epoch 30/100\n",
      "750/750 [==============================] - 0s 121us/sample - loss: 0.2394 - accuracy: 0.9027\n",
      "Epoch 31/100\n",
      "750/750 [==============================] - 0s 122us/sample - loss: 0.2376 - accuracy: 0.9040\n",
      "Epoch 32/100\n",
      "750/750 [==============================] - 0s 104us/sample - loss: 0.2359 - accuracy: 0.9040\n",
      "Epoch 33/100\n",
      "750/750 [==============================] - 0s 115us/sample - loss: 0.2342 - accuracy: 0.9040\n",
      "Epoch 34/100\n",
      "750/750 [==============================] - ETA: 0s - loss: 0.2138 - accuracy: 0.91 - 0s 125us/sample - loss: 0.2326 - accuracy: 0.9053\n",
      "Epoch 35/100\n",
      "750/750 [==============================] - 0s 129us/sample - loss: 0.2311 - accuracy: 0.9067\n",
      "Epoch 36/100\n",
      "750/750 [==============================] - 0s 111us/sample - loss: 0.2296 - accuracy: 0.9080\n",
      "Epoch 37/100\n",
      "750/750 [==============================] - 0s 110us/sample - loss: 0.2282 - accuracy: 0.9080\n",
      "Epoch 38/100\n",
      "750/750 [==============================] - 0s 110us/sample - loss: 0.2267 - accuracy: 0.9080\n",
      "Epoch 39/100\n",
      "750/750 [==============================] - 0s 107us/sample - loss: 0.2253 - accuracy: 0.9080\n",
      "Epoch 40/100\n",
      "750/750 [==============================] - 0s 109us/sample - loss: 0.2241 - accuracy: 0.9107\n",
      "Epoch 41/100\n",
      "750/750 [==============================] - 0s 106us/sample - loss: 0.2227 - accuracy: 0.9107\n",
      "Epoch 42/100\n",
      "750/750 [==============================] - 0s 107us/sample - loss: 0.2213 - accuracy: 0.9133\n",
      "Epoch 43/100\n",
      "750/750 [==============================] - 0s 109us/sample - loss: 0.2200 - accuracy: 0.9133\n",
      "Epoch 44/100\n",
      "750/750 [==============================] - 0s 108us/sample - loss: 0.2187 - accuracy: 0.9133\n",
      "Epoch 45/100\n",
      "750/750 [==============================] - 0s 113us/sample - loss: 0.2175 - accuracy: 0.9133\n",
      "Epoch 46/100\n",
      "750/750 [==============================] - 0s 124us/sample - loss: 0.2161 - accuracy: 0.9133\n",
      "Epoch 47/100\n",
      "750/750 [==============================] - 0s 99us/sample - loss: 0.2149 - accuracy: 0.9147\n",
      "Epoch 48/100\n",
      "750/750 [==============================] - 0s 127us/sample - loss: 0.2137 - accuracy: 0.9147\n",
      "Epoch 49/100\n",
      "750/750 [==============================] - 0s 117us/sample - loss: 0.2124 - accuracy: 0.9147\n",
      "Epoch 50/100\n",
      " 32/750 [>.............................] - ETA: 0s - loss: 0.3084 - accuracy: 0.9375"
     ]
    }
   ],
   "source": [
    "# Compile the Sequential model together and customize metrics\n",
    "new_model.compile(loss=\"binary_crossentropy\", optimizer=\"adam\", metrics=[\"accuracy\"])\n",
    "\n",
    "# Fit the model to the training data\n",
    "new_fit_model = new_model.fit(X_moon_train_scaled, y_moon_train, epochs=100, shuffle=True)"
   ]
  },
  {
   "cell_type": "code",
   "execution_count": null,
   "metadata": {},
   "outputs": [],
   "source": []
  }
 ],
 "metadata": {
  "kernelspec": {
   "display_name": "mlenv",
   "language": "python",
   "name": "mlenv"
  },
  "language_info": {
   "codemirror_mode": {
    "name": "ipython",
    "version": 3
   },
   "file_extension": ".py",
   "mimetype": "text/x-python",
   "name": "python",
   "nbconvert_exporter": "python",
   "pygments_lexer": "ipython3",
   "version": "3.7.7"
  }
 },
 "nbformat": 4,
 "nbformat_minor": 4
}
